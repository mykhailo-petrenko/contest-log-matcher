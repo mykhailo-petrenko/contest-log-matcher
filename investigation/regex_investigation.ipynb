{
 "cells": [
  {
   "cell_type": "code",
   "execution_count": 1,
   "metadata": {
    "collapsed": true,
    "ExecuteTime": {
     "end_time": "2025-08-20T21:03:29.869883Z",
     "start_time": "2025-08-20T21:03:29.848636Z"
    }
   },
   "outputs": [],
   "source": [
    "import re\n",
    "# Examples\n",
    "tests = [\n",
    "    \"this has pattern inside\",\n",
    "    \"this does not have it\",\n",
    "    \"pattern at start\",\n",
    "    \"completely clean\"\n",
    "]\n",
    "\n",
    "def test_it(regex):\n",
    "    for t in tests:\n",
    "        if regex.match(t):\n",
    "            print(\"YES:\", t)\n",
    "        else:\n",
    "            print(\"NO:\", t)\n"
   ]
  },
  {
   "cell_type": "code",
   "execution_count": 2,
   "outputs": [
    {
     "name": "stdout",
     "output_type": "stream",
     "text": [
      "NO: this has pattern inside\n",
      "YES: this does not have it\n",
      "NO: pattern at start\n",
      "YES: completely clean\n"
     ]
    }
   ],
   "source": [
    "test_it(re.compile(r'^(?!.*pattern).*$'))\n"
   ],
   "metadata": {
    "collapsed": false,
    "ExecuteTime": {
     "end_time": "2025-08-20T21:04:08.463495Z",
     "start_time": "2025-08-20T21:04:08.435235Z"
    }
   }
  },
  {
   "cell_type": "code",
   "execution_count": null,
   "outputs": [],
   "source": [],
   "metadata": {
    "collapsed": false
   }
  }
 ],
 "metadata": {
  "kernelspec": {
   "display_name": "Python 3",
   "language": "python",
   "name": "python3"
  },
  "language_info": {
   "codemirror_mode": {
    "name": "ipython",
    "version": 2
   },
   "file_extension": ".py",
   "mimetype": "text/x-python",
   "name": "python",
   "nbconvert_exporter": "python",
   "pygments_lexer": "ipython2",
   "version": "2.7.6"
  }
 },
 "nbformat": 4,
 "nbformat_minor": 0
}
